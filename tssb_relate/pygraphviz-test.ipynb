{
 "cells": [
  {
   "cell_type": "code",
   "execution_count": 9,
   "metadata": {
    "collapsed": true
   },
   "outputs": [],
   "source": [
    "import pygraphviz as pgv\n",
    "# import networkx as nx"
   ]
  },
  {
   "cell_type": "code",
   "execution_count": 3,
   "metadata": {
    "collapsed": true
   },
   "outputs": [],
   "source": [
    "# AGraph クラスの作成\n",
    "G = pgv.AGraph()"
   ]
  },
  {
   "cell_type": "code",
   "execution_count": 4,
   "metadata": {
    "collapsed": true
   },
   "outputs": [],
   "source": [
    "# ノードの追加\n",
    "G.add_node('a')\n",
    "G.add_node('b')"
   ]
  },
  {
   "cell_type": "code",
   "execution_count": 5,
   "metadata": {
    "collapsed": true
   },
   "outputs": [],
   "source": [
    "# エッジの追加\n",
    "G.add_edge('c', 'd')\n",
    "G.add_edge('e', 'f')"
   ]
  },
  {
   "cell_type": "code",
   "execution_count": 7,
   "metadata": {
    "collapsed": false
   },
   "outputs": [],
   "source": [
    "# 描画\n",
    "G.layout()\n",
    "G.draw(\"sample.png\")"
   ]
  },
  {
   "cell_type": "code",
   "execution_count": 10,
   "metadata": {
    "collapsed": false
   },
   "outputs": [
    {
     "data": {
      "text/plain": [
       "<AGraph <Swig Object of type 'Agraph_t *' at 0x10626a1e0>>"
      ]
     },
     "execution_count": 10,
     "metadata": {},
     "output_type": "execute_result"
    }
   ],
   "source": [
    "# http://pynotebook.blogspot.jp/2011/04/pygraphviz_11.html\n",
    "G  "
   ]
  },
  {
   "cell_type": "code",
   "execution_count": 11,
   "metadata": {
    "collapsed": true
   },
   "outputs": [
    {
     "data": {
      "text/plain": [
       "['__class__',\n",
       " '__contains__',\n",
       " '__delattr__',\n",
       " '__dict__',\n",
       " '__doc__',\n",
       " '__enter__',\n",
       " '__eq__',\n",
       " '__exit__',\n",
       " '__format__',\n",
       " '__getattribute__',\n",
       " '__getitem__',\n",
       " '__hash__',\n",
       " '__init__',\n",
       " '__iter__',\n",
       " '__len__',\n",
       " '__module__',\n",
       " '__new__',\n",
       " '__reduce__',\n",
       " '__reduce_ex__',\n",
       " '__repr__',\n",
       " '__setattr__',\n",
       " '__sizeof__',\n",
       " '__str__',\n",
       " '__subclasshook__',\n",
       " '__unicode__',\n",
       " '__weakref__',\n",
       " '_get_fh',\n",
       " '_get_prog',\n",
       " '_run_prog',\n",
       " '_which',\n",
       " 'acyclic',\n",
       " 'add_cycle',\n",
       " 'add_edge',\n",
       " 'add_edges_from',\n",
       " 'add_node',\n",
       " 'add_nodes_from',\n",
       " 'add_path',\n",
       " 'add_subgraph',\n",
       " 'clear',\n",
       " 'close',\n",
       " 'copy',\n",
       " 'degree',\n",
       " 'degree_iter',\n",
       " 'delete_edge',\n",
       " 'delete_edges_from',\n",
       " 'delete_node',\n",
       " 'delete_nodes_from',\n",
       " 'delete_subgraph',\n",
       " 'directed',\n",
       " 'draw',\n",
       " 'edge_attr',\n",
       " 'edges',\n",
       " 'edges_iter',\n",
       " 'encoding',\n",
       " 'from_string',\n",
       " 'get_edge',\n",
       " 'get_name',\n",
       " 'get_node',\n",
       " 'get_subgraph',\n",
       " 'graph_attr',\n",
       " 'handle',\n",
       " 'has_edge',\n",
       " 'has_layout',\n",
       " 'has_neighbor',\n",
       " 'has_node',\n",
       " 'in_degree',\n",
       " 'in_degree_iter',\n",
       " 'in_edges',\n",
       " 'in_edges_iter',\n",
       " 'in_neighbors',\n",
       " 'is_directed',\n",
       " 'is_strict',\n",
       " 'is_undirected',\n",
       " 'iterdegree',\n",
       " 'iteredges',\n",
       " 'iterindegree',\n",
       " 'iterinedges',\n",
       " 'iterneighbors',\n",
       " 'iternodes',\n",
       " 'iteroutdegree',\n",
       " 'iteroutedges',\n",
       " 'iterpred',\n",
       " 'itersucc',\n",
       " 'layout',\n",
       " 'name',\n",
       " 'neighbors',\n",
       " 'neighbors_iter',\n",
       " 'node_attr',\n",
       " 'nodes',\n",
       " 'nodes_iter',\n",
       " 'number_of_edges',\n",
       " 'number_of_nodes',\n",
       " 'order',\n",
       " 'out_degree',\n",
       " 'out_degree_iter',\n",
       " 'out_edges',\n",
       " 'out_edges_iter',\n",
       " 'out_neighbors',\n",
       " 'predecessors',\n",
       " 'predecessors_iter',\n",
       " 'prepare_nbunch',\n",
       " 'read',\n",
       " 'remove_edge',\n",
       " 'remove_edges_from',\n",
       " 'remove_node',\n",
       " 'remove_nodes_from',\n",
       " 'remove_subgraph',\n",
       " 'reverse',\n",
       " 'size',\n",
       " 'strict',\n",
       " 'string',\n",
       " 'string_nop',\n",
       " 'subgraph',\n",
       " 'subgraph_parent',\n",
       " 'subgraph_root',\n",
       " 'subgraphs',\n",
       " 'subgraphs_iter',\n",
       " 'successors',\n",
       " 'successors_iter',\n",
       " 'to_directed',\n",
       " 'to_string',\n",
       " 'to_undirected',\n",
       " 'tred',\n",
       " 'write']"
      ]
     },
     "execution_count": 11,
     "metadata": {},
     "output_type": "execute_result"
    }
   ],
   "source": [
    "dir(G)"
   ]
  },
  {
   "cell_type": "code",
   "execution_count": 13,
   "metadata": {
    "collapsed": false
   },
   "outputs": [],
   "source": [
    "# 辞書型からグラフに変換\n",
    "d={'1': {'2': None}, '2': {'1': None, '3': None}, '3': {'2': None}}"
   ]
  },
  {
   "cell_type": "code",
   "execution_count": 23,
   "metadata": {
    "collapsed": true
   },
   "outputs": [],
   "source": [
    "A=pgv.AGraph(d)"
   ]
  },
  {
   "cell_type": "code",
   "execution_count": 24,
   "metadata": {
    "collapsed": true
   },
   "outputs": [],
   "source": [
    "s=A.string()"
   ]
  },
  {
   "cell_type": "code",
   "execution_count": 25,
   "metadata": {
    "collapsed": false
   },
   "outputs": [
    {
     "data": {
      "text/plain": [
       "u'strict graph {\\n\\t1 -- 2;\\n\\t3 -- 2;\\n}\\n'"
      ]
     },
     "execution_count": 25,
     "metadata": {},
     "output_type": "execute_result"
    }
   ],
   "source": [
    "s"
   ]
  },
  {
   "cell_type": "code",
   "execution_count": 28,
   "metadata": {
    "collapsed": false
   },
   "outputs": [],
   "source": [
    "A.layout()\n",
    "A.draw(\"test.png\")"
   ]
  },
  {
   "cell_type": "code",
   "execution_count": null,
   "metadata": {
    "collapsed": true
   },
   "outputs": [],
   "source": []
  },
  {
   "cell_type": "code",
   "execution_count": null,
   "metadata": {
    "collapsed": true
   },
   "outputs": [],
   "source": []
  },
  {
   "cell_type": "code",
   "execution_count": null,
   "metadata": {
    "collapsed": true
   },
   "outputs": [],
   "source": []
  },
  {
   "cell_type": "code",
   "execution_count": null,
   "metadata": {
    "collapsed": true
   },
   "outputs": [],
   "source": []
  },
  {
   "cell_type": "code",
   "execution_count": null,
   "metadata": {
    "collapsed": true
   },
   "outputs": [],
   "source": []
  }
 ],
 "metadata": {
  "anaconda-cloud": {},
  "kernelspec": {
   "display_name": "Python [Root]",
   "language": "python",
   "name": "Python [Root]"
  },
  "language_info": {
   "codemirror_mode": {
    "name": "ipython",
    "version": 2
   },
   "file_extension": ".py",
   "mimetype": "text/x-python",
   "name": "python",
   "nbconvert_exporter": "python",
   "pygments_lexer": "ipython2",
   "version": "2.7.12"
  }
 },
 "nbformat": 4,
 "nbformat_minor": 0
}
