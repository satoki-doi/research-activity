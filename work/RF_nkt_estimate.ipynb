{
 "cells": [
  {
   "cell_type": "code",
   "execution_count": 30,
   "metadata": {
    "collapsed": false
   },
   "outputs": [],
   "source": [
    "# -*- coding: utf-8 -*-\n",
    "import pandas as pd\n",
    "import numpy as np\n",
    "import matplotlib.pyplot as plt\n",
    "%matplotlib inline\n",
    "from sklearn.ensemble import RandomForestClassifier\n",
    "from sklearn.cross_validation import train_test_split\n",
    "from sklearn.grid_search import GridSearchCV\n",
    "from sklearn import cross_validation\n",
    "from sklearn.externals import joblib # 学習器をdumpする\n"
   ]
  },
  {
   "cell_type": "code",
   "execution_count": 4,
   "metadata": {
    "collapsed": false
   },
   "outputs": [],
   "source": [
    "# データの読み込み\n",
    "# iris データで試しに実行してみる\n",
    "from sklearn.datasets import load_iris\n",
    "data = load_iris()\n",
    "features = data['data'] # <type 'numpy.ndarray'> shape (150, 4) 特徴量\n",
    "feature_names = data['feature_names'] # <type 'list'> 列名\n",
    "# ['sepal length (cm)', 'sepal width (cm)', 'petal length (cm)'\n",
    "# , 'petal width (cm)']\n",
    "target = data['target'] # <type 'numpy.ndarray'> shape (150, ) 目的変数\n",
    "target_names = data['target_names'] # <type 'numpy.ndarray'> shape (3, )\n",
    "labels = target_names[target] # <type 'numpy.ndarray'> shape (150, ) dtype S10"
   ]
  },
  {
   "cell_type": "code",
   "execution_count": 54,
   "metadata": {
    "collapsed": false
   },
   "outputs": [
    {
     "name": "stdout",
     "output_type": "stream",
     "text": [
      "['bbb' 'bbb' 'bbb' 'aaa' 'aaa' 'aaa']\n"
     ]
    }
   ],
   "source": [
    "###  勉強\n",
    "# 本コードとは関係のない余談\n",
    "# labels の処理について　\n",
    "A = np.array([1, 1, 1, 0, 0, 0])\n",
    "B = np.array([\"aaa\", \"bbb\"])\n",
    "C = B[A]\n",
    "print C  # 0 = \"aaa\", 1 = \"bbb\" Bの配列の順番に割り当てている\n",
    "###"
   ]
  },
  {
   "cell_type": "code",
   "execution_count": 6,
   "metadata": {
    "collapsed": false
   },
   "outputs": [
    {
     "data": {
      "text/plain": [
       "dtype('int64')"
      ]
     },
     "execution_count": 6,
     "metadata": {},
     "output_type": "execute_result"
    }
   ],
   "source": [
    "target.dtype"
   ]
  },
  {
   "cell_type": "code",
   "execution_count": 7,
   "metadata": {
    "collapsed": false
   },
   "outputs": [],
   "source": [
    "#トレーニングデータとテストデータに分割\n",
    "train_features, test_features, train_labels, test_labels = train_test_split(features, labels, test_size = 0.30)"
   ]
  },
  {
   "cell_type": "code",
   "execution_count": 8,
   "metadata": {
    "collapsed": false
   },
   "outputs": [
    {
     "name": "stdout",
     "output_type": "stream",
     "text": [
      "(105, 4)\n",
      "(45, 4)\n",
      "(105,)\n",
      "(45,)\n"
     ]
    }
   ],
   "source": [
    "print train_features.shape\n",
    "print test_features.shape\n",
    "print train_labels.shape\n",
    "print test_labels.shape"
   ]
  },
  {
   "cell_type": "code",
   "execution_count": 9,
   "metadata": {
    "collapsed": false
   },
   "outputs": [
    {
     "data": {
      "text/plain": [
       "RandomForestClassifier(bootstrap=True, class_weight=None, criterion='gini',\n",
       "            max_depth=None, max_features='auto', max_leaf_nodes=None,\n",
       "            min_samples_leaf=1, min_samples_split=2,\n",
       "            min_weight_fraction_leaf=0.0, n_estimators=10, n_jobs=1,\n",
       "            oob_score=False, random_state=None, verbose=0,\n",
       "            warm_start=False)"
      ]
     },
     "execution_count": 9,
     "metadata": {},
     "output_type": "execute_result"
    }
   ],
   "source": [
    "# RandomForest \n",
    "model_RF = RandomForestClassifier()\n",
    "model_RF.fit(train_features, train_labels)"
   ]
  },
  {
   "cell_type": "code",
   "execution_count": 10,
   "metadata": {
    "collapsed": false
   },
   "outputs": [
    {
     "name": "stdout",
     "output_type": "stream",
     "text": [
      "['versicolor' 'versicolor' 'setosa' 'virginica' 'virginica' 'versicolor'\n",
      " 'versicolor' 'setosa' 'virginica' 'setosa' 'setosa' 'virginica'\n",
      " 'virginica' 'versicolor' 'versicolor' 'versicolor' 'setosa' 'virginica'\n",
      " 'virginica' 'setosa' 'versicolor' 'versicolor' 'versicolor' 'versicolor'\n",
      " 'versicolor' 'virginica' 'setosa' 'setosa' 'virginica' 'setosa'\n",
      " 'versicolor' 'setosa' 'virginica' 'virginica' 'versicolor' 'virginica'\n",
      " 'versicolor' 'setosa' 'virginica' 'versicolor' 'setosa' 'setosa' 'setosa'\n",
      " 'versicolor' 'setosa']\n"
     ]
    }
   ],
   "source": [
    "output = model_RF.predict(test_features)\n",
    "print output"
   ]
  },
  {
   "cell_type": "code",
   "execution_count": 11,
   "metadata": {
    "collapsed": false
   },
   "outputs": [
    {
     "name": "stdout",
     "output_type": "stream",
     "text": [
      "0.933333333333\n"
     ]
    }
   ],
   "source": [
    "score_RF = model_RF.score(test_features, test_labels)\n",
    "print score_RF\n",
    "# RF 学習器取りあえず完成"
   ]
  },
  {
   "cell_type": "code",
   "execution_count": 12,
   "metadata": {
    "collapsed": true
   },
   "outputs": [],
   "source": [
    "# モデルパラメータの選択\n",
    "\n",
    "# データをk-分割し、正解率を計算\n",
    "def get_accuracy(model, train_features, train_labels):\n",
    "    scores = cross_validation.cross_val_score(model, train_features, train_labels, cv=10)\n",
    "    print(\"Accuracy: %0.2f (+/- %0.2f)\" % (scores.mean(), scores.std() * 2))\n",
    "\n",
    "# Grid search　パラメータの値をチューニングする\n",
    "def grid_search(train_features, train_labels):\n",
    "    param_grid = [\n",
    "        {'C': [1, 10, 100, 1000], 'kernel': ['linear']},\n",
    "        {'C': [1, 10, 100, 1000], 'gamma': [0.001, 0.0001], 'kernel': ['rbf']},\n",
    "    ]\n",
    "\n",
    "    clf = GridSearchCV(svm.SVC(C=1), param_grid, n_jobs=-1)\n",
    "    clf.fit(train_features, train_labels)\n",
    "    print clf.best_estimator_"
   ]
  },
  {
   "cell_type": "code",
   "execution_count": 13,
   "metadata": {
    "collapsed": true
   },
   "outputs": [],
   "source": [
    "# cast classに適用する\n",
    "# データの読み込み\n",
    "features_nkt = np.loadtxt(\"features.csv\",delimiter=\",\")"
   ]
  },
  {
   "cell_type": "code",
   "execution_count": 14,
   "metadata": {
    "collapsed": false
   },
   "outputs": [
    {
     "data": {
      "text/plain": [
       "(100, 67)"
      ]
     },
     "execution_count": 14,
     "metadata": {},
     "output_type": "execute_result"
    }
   ],
   "source": [
    "features_nkt.shape"
   ]
  },
  {
   "cell_type": "code",
   "execution_count": 15,
   "metadata": {
    "collapsed": false
   },
   "outputs": [],
   "source": [
    "target_nkt = np.genfromtxt(\"target.csv\", delimiter=',', dtype = np.int)\n",
    "talent_names = np.genfromtxt(\"target_names.csv\", delimiter=\",\", dtype = np.str)\n",
    "target_names_nkt = np.array([\"F-rank\", \"C-rank\", \"B-rank\", \"A-rank\", \"S-rank\"], dtype = np.str)\n",
    "# labels = target_names_nkt[target_nkt]"
   ]
  },
  {
   "cell_type": "code",
   "execution_count": 16,
   "metadata": {
    "collapsed": false
   },
   "outputs": [],
   "source": [
    "tmp = target_nkt - 1\n",
    "target_nkt_bool = tmp.astype(np.int64)\n",
    "labels_nkt = target_names_nkt[target_nkt_bool]"
   ]
  },
  {
   "cell_type": "code",
   "execution_count": 17,
   "metadata": {
    "collapsed": false
   },
   "outputs": [],
   "source": [
    "#トレーニングデータとテストデータに分割\n",
    "train_features_nkt, test_features_nkt, train_labels_nkt, test_labels_nkt = train_test_split(features_nkt, labels_nkt, test_size = 0.30)"
   ]
  },
  {
   "cell_type": "code",
   "execution_count": 18,
   "metadata": {
    "collapsed": false
   },
   "outputs": [
    {
     "name": "stdout",
     "output_type": "stream",
     "text": [
      "['B-rank' 'B-rank' 'B-rank' 'F-rank' 'F-rank' 'B-rank' 'S-rank' 'B-rank'\n",
      " 'B-rank' 'B-rank' 'S-rank' 'B-rank' 'B-rank' 'S-rank' 'F-rank' 'S-rank'\n",
      " 'A-rank' 'F-rank' 'S-rank' 'B-rank' 'S-rank' 'B-rank' 'B-rank' 'F-rank'\n",
      " 'S-rank' 'S-rank' 'S-rank' 'B-rank' 'C-rank' 'A-rank']\n"
     ]
    }
   ],
   "source": [
    "# RandomForest \n",
    "model_RF_nkt = RandomForestClassifier()\n",
    "model_RF_nkt.fit(train_features_nkt, train_labels_nkt)\n",
    "output_nkt = model_RF_nkt.predict(test_features_nkt)\n",
    "print output_nkt"
   ]
  },
  {
   "cell_type": "code",
   "execution_count": 19,
   "metadata": {
    "collapsed": false
   },
   "outputs": [
    {
     "name": "stdout",
     "output_type": "stream",
     "text": [
      "0.466666666667\n"
     ]
    }
   ],
   "source": [
    "score_RF_nkt = model_RF_nkt.score(test_features_nkt, test_labels_nkt)\n",
    "print score_RF_nkt\n",
    "# RF 学習器取りあえず完成"
   ]
  },
  {
   "cell_type": "code",
   "execution_count": 20,
   "metadata": {
    "collapsed": true
   },
   "outputs": [],
   "source": [
    "# 日活側からもらったデータで再度検証\n",
    "# cast classに適用する\n",
    "# データの読み込み\n",
    "features_nkt_2 = np.genfromtxt(\"features_nkt.csv\",delimiter=\",\")\n",
    "target_nkt_2 = np.genfromtxt(\"target_nkt.csv\", delimiter=',', dtype = np.int)\n",
    "talent_names_2 = np.genfromtxt(\"talent_names.csv\", delimiter=\",\", dtype = np.str)\n",
    "target_names_nkt_2 = np.array([\"C-rank\", \"B-rank\", \"A-rank\", \"S-rank\"], dtype = np.str)\n",
    "# labels = target_names_nkt[target_nkt]"
   ]
  },
  {
   "cell_type": "code",
   "execution_count": 21,
   "metadata": {
    "collapsed": true
   },
   "outputs": [],
   "source": [
    "tmp = target_nkt_2 - 1\n",
    "target_nkt_bool_2 = tmp.astype(np.int64)\n",
    "labels_nkt_2 = target_names_nkt_2[target_nkt_bool_2]"
   ]
  },
  {
   "cell_type": "code",
   "execution_count": 22,
   "metadata": {
    "collapsed": true
   },
   "outputs": [],
   "source": [
    "#トレーニングデータとテストデータに分割\n",
    "train_features_nkt_2, test_features_nkt_2, train_labels_nkt_2, test_labels_nkt_2 = train_test_split(features_nkt_2, labels_nkt_2, test_size = 0.20)"
   ]
  },
  {
   "cell_type": "code",
   "execution_count": 23,
   "metadata": {
    "collapsed": true
   },
   "outputs": [
    {
     "name": "stdout",
     "output_type": "stream",
     "text": [
      "['B-rank' 'B-rank' 'S-rank' 'F-rank' 'A-rank' 'A-rank' 'C-rank' 'A-rank'\n",
      " 'S-rank' 'B-rank' 'B-rank' 'B-rank' 'S-rank' 'A-rank' 'B-rank' 'B-rank'\n",
      " 'B-rank' 'B-rank' 'B-rank' 'B-rank' 'F-rank' 'B-rank' 'B-rank' 'B-rank'\n",
      " 'C-rank' 'S-rank' 'B-rank' 'B-rank' 'S-rank' 'B-rank' 'B-rank' 'B-rank'\n",
      " 'S-rank' 'B-rank' 'A-rank' 'A-rank' 'B-rank' 'F-rank' 'C-rank' 'A-rank'\n",
      " 'B-rank' 'A-rank' 'C-rank' 'B-rank' 'F-rank' 'A-rank' 'S-rank' 'B-rank'\n",
      " 'B-rank' 'C-rank' 'F-rank' 'S-rank' 'B-rank' 'C-rank' 'F-rank' 'B-rank'\n",
      " 'F-rank' 'B-rank' 'S-rank' 'B-rank' 'F-rank' 'S-rank' 'S-rank' 'B-rank'\n",
      " 'F-rank' 'S-rank' 'B-rank' 'B-rank' 'A-rank' 'B-rank' 'F-rank' 'C-rank'\n",
      " 'F-rank' 'S-rank' 'B-rank' 'B-rank' 'B-rank' 'A-rank' 'B-rank' 'S-rank'\n",
      " 'B-rank' 'B-rank' 'F-rank' 'B-rank' 'S-rank' 'B-rank' 'C-rank' 'B-rank'\n",
      " 'S-rank' 'F-rank' 'B-rank' 'F-rank' 'B-rank' 'C-rank' 'C-rank' 'A-rank'\n",
      " 'S-rank' 'B-rank' 'B-rank' 'A-rank' 'B-rank' 'S-rank' 'B-rank' 'S-rank'\n",
      " 'F-rank' 'B-rank' 'B-rank' 'C-rank' 'B-rank' 'B-rank' 'B-rank' 'S-rank'\n",
      " 'S-rank' 'F-rank' 'S-rank' 'F-rank' 'B-rank' 'F-rank' 'B-rank' 'B-rank'\n",
      " 'F-rank' 'A-rank' 'B-rank' 'C-rank' 'B-rank' 'B-rank' 'C-rank' 'C-rank'\n",
      " 'C-rank' 'A-rank' 'A-rank' 'B-rank' 'C-rank' 'S-rank' 'C-rank' 'B-rank'\n",
      " 'A-rank' 'F-rank' 'C-rank' 'A-rank' 'C-rank' 'S-rank' 'B-rank' 'B-rank'\n",
      " 'C-rank' 'F-rank' 'S-rank' 'B-rank' 'A-rank' 'S-rank' 'F-rank' 'C-rank'\n",
      " 'B-rank' 'B-rank' 'A-rank' 'B-rank' 'C-rank' 'C-rank' 'S-rank' 'S-rank'\n",
      " 'B-rank' 'C-rank' 'S-rank' 'A-rank' 'B-rank' 'F-rank' 'A-rank' 'B-rank'\n",
      " 'B-rank' 'F-rank' 'B-rank' 'A-rank' 'A-rank' 'A-rank' 'S-rank' 'B-rank'\n",
      " 'F-rank' 'F-rank' 'F-rank' 'C-rank' 'A-rank' 'B-rank' 'B-rank' 'B-rank'\n",
      " 'F-rank' 'S-rank' 'F-rank' 'C-rank' 'A-rank' 'B-rank' 'F-rank' 'F-rank'\n",
      " 'B-rank' 'C-rank' 'B-rank' 'B-rank' 'F-rank' 'F-rank' 'C-rank' 'A-rank'\n",
      " 'A-rank' 'B-rank' 'A-rank' 'B-rank' 'B-rank' 'B-rank' 'C-rank' 'F-rank'\n",
      " 'B-rank' 'B-rank' 'B-rank' 'B-rank' 'C-rank' 'B-rank' 'A-rank' 'B-rank'\n",
      " 'B-rank' 'S-rank' 'B-rank' 'B-rank' 'S-rank' 'F-rank' 'B-rank' 'S-rank'\n",
      " 'C-rank' 'F-rank' 'F-rank' 'F-rank' 'B-rank' 'C-rank' 'F-rank' 'C-rank'\n",
      " 'F-rank' 'A-rank' 'A-rank' 'S-rank' 'A-rank']\n"
     ]
    }
   ],
   "source": [
    "# RandomForest \n",
    "model_RF_nkt_2 = RandomForestClassifier()\n",
    "model_RF_nkt_2.fit(train_features_nkt_2, train_labels_nkt_2)\n",
    "output_nkt_2 = model_RF_nkt.predict(test_features_nkt_2)\n",
    "print output_nkt_2"
   ]
  },
  {
   "cell_type": "code",
   "execution_count": 29,
   "metadata": {
    "collapsed": false
   },
   "outputs": [
    {
     "name": "stdout",
     "output_type": "stream",
     "text": [
      "0.831223628692\n"
     ]
    }
   ],
   "source": [
    "score_RF_nkt_2 = model_RF_nkt_2.score(test_features_nkt_2, test_labels_nkt_2)\n",
    "print score_RF_nkt_2\n",
    "# RF 学習器取りあえず完成"
   ]
  },
  {
   "cell_type": "code",
   "execution_count": 31,
   "metadata": {
    "collapsed": false
   },
   "outputs": [
    {
     "name": "stdout",
     "output_type": "stream",
     "text": [
      "Accuracy: 0.83 (+/- 0.06)\n"
     ]
    }
   ],
   "source": [
    "# def get_accuracy(model, train_features, train_labels):\n",
    "#     scores = cross_validation.cross_val_score(model, train_features, train_labels, cv=10)\n",
    "#     print(\"Accuracy: %0.2f (+/- %0.2f)\" % (scores.mean(), scores.std() * 2))\n",
    "# 上で作った関数を用いて計算してみる\n",
    "accuracy = get_accuracy(model_RF_nkt_2, train_features_nkt_2, train_labels_nkt_2)"
   ]
  },
  {
   "cell_type": "code",
   "execution_count": 32,
   "metadata": {
    "collapsed": true
   },
   "outputs": [],
   "source": [
    "# class sklearn.ensemble.RandomForestClassifier(\n",
    "#     n_estimators=10, \n",
    "#     criterion='gini', \n",
    "#     max_depth=None, \n",
    "#     min_samples_split=2, \n",
    "#     min_samples_leaf=1, \n",
    "#     max_features='auto', \n",
    "#     max_leaf_nodes=None, \n",
    "#     bootstrap=True, \n",
    "#     oob_score=False, \n",
    "#     n_jobs=1, \n",
    "#     random_state=None, \n",
    "#     verbose=0, \n",
    "#     min_density=None, \n",
    "#     compute_importances=None\n",
    "#     )"
   ]
  },
  {
   "cell_type": "code",
   "execution_count": 42,
   "metadata": {
    "collapsed": true
   },
   "outputs": [],
   "source": [
    "# RFのパラメータをチューニングする\n",
    "# parameters = {\n",
    "#         'n_estimators'      : [100, 300, 500, 1000],\n",
    "#         'max_features'      : [3, 5, 10, 15, 20, 25],\n",
    "#         'max_depth'         : [3, 5, 10, 15, 20, 25, 30]\n",
    "# }\n",
    "# model = GridSearchCV(RandomForestClassifier(), parameters)\n",
    "# model.fit(train_features_nkt_2, train_labels_nkt_2) \n",
    "# print(model.best_estimator_)"
   ]
  },
  {
   "cell_type": "code",
   "execution_count": 33,
   "metadata": {
    "collapsed": true
   },
   "outputs": [
    {
     "name": "stdout",
     "output_type": "stream",
     "text": [
      "['C-rank' 'C-rank' 'C-rank' 'C-rank' 'C-rank' 'C-rank' 'C-rank' 'C-rank'\n",
      " 'A-rank' 'C-rank' 'C-rank' 'C-rank' 'A-rank' 'C-rank' 'C-rank' 'C-rank'\n",
      " 'C-rank' 'C-rank' 'C-rank' 'C-rank' 'C-rank' 'C-rank' 'C-rank' 'C-rank'\n",
      " 'C-rank' 'B-rank' 'C-rank' 'C-rank' 'B-rank' 'C-rank' 'C-rank' 'C-rank'\n",
      " 'A-rank' 'C-rank' 'B-rank' 'C-rank' 'C-rank' 'C-rank' 'C-rank' 'C-rank'\n",
      " 'C-rank' 'B-rank' 'C-rank' 'C-rank' 'B-rank' 'C-rank' 'B-rank' 'C-rank'\n",
      " 'C-rank' 'B-rank' 'C-rank' 'A-rank' 'C-rank' 'C-rank' 'C-rank' 'C-rank'\n",
      " 'C-rank' 'C-rank' 'C-rank' 'C-rank' 'C-rank' 'A-rank' 'A-rank' 'C-rank'\n",
      " 'C-rank' 'A-rank' 'C-rank' 'C-rank' 'C-rank' 'C-rank' 'C-rank' 'C-rank'\n",
      " 'C-rank' 'C-rank' 'C-rank' 'C-rank' 'C-rank' 'C-rank' 'C-rank' 'C-rank'\n",
      " 'C-rank' 'C-rank' 'C-rank' 'C-rank' 'B-rank' 'C-rank' 'C-rank' 'C-rank'\n",
      " 'A-rank' 'B-rank' 'C-rank' 'C-rank' 'C-rank' 'C-rank' 'C-rank' 'B-rank'\n",
      " 'B-rank' 'C-rank' 'C-rank' 'B-rank' 'C-rank' 'A-rank' 'C-rank' 'A-rank'\n",
      " 'C-rank' 'C-rank' 'C-rank' 'C-rank' 'C-rank' 'C-rank' 'C-rank' 'C-rank'\n",
      " 'B-rank' 'C-rank' 'C-rank' 'C-rank' 'C-rank' 'C-rank' 'C-rank' 'C-rank'\n",
      " 'C-rank' 'C-rank' 'C-rank' 'C-rank' 'C-rank' 'B-rank' 'C-rank' 'C-rank'\n",
      " 'C-rank' 'C-rank' 'C-rank' 'C-rank' 'C-rank' 'B-rank' 'C-rank' 'C-rank'\n",
      " 'B-rank' 'C-rank' 'C-rank' 'C-rank' 'C-rank' 'C-rank' 'C-rank' 'C-rank'\n",
      " 'C-rank' 'C-rank' 'C-rank' 'C-rank' 'C-rank' 'B-rank' 'A-rank' 'C-rank'\n",
      " 'C-rank' 'C-rank' 'C-rank' 'C-rank' 'B-rank' 'C-rank' 'B-rank' 'B-rank'\n",
      " 'C-rank' 'C-rank' 'B-rank' 'C-rank' 'C-rank' 'C-rank' 'B-rank' 'C-rank'\n",
      " 'C-rank' 'C-rank' 'C-rank' 'C-rank' 'C-rank' 'A-rank' 'A-rank' 'C-rank'\n",
      " 'C-rank' 'C-rank' 'C-rank' 'C-rank' 'C-rank' 'C-rank' 'C-rank' 'C-rank'\n",
      " 'C-rank' 'C-rank' 'C-rank' 'C-rank' 'C-rank' 'C-rank' 'C-rank' 'C-rank'\n",
      " 'C-rank' 'C-rank' 'C-rank' 'C-rank' 'C-rank' 'C-rank' 'C-rank' 'C-rank'\n",
      " 'B-rank' 'C-rank' 'C-rank' 'C-rank' 'C-rank' 'C-rank' 'C-rank' 'C-rank'\n",
      " 'C-rank' 'C-rank' 'C-rank' 'C-rank' 'C-rank' 'C-rank' 'C-rank' 'C-rank'\n",
      " 'C-rank' 'B-rank' 'C-rank' 'C-rank' 'B-rank' 'C-rank' 'C-rank' 'A-rank'\n",
      " 'B-rank' 'C-rank' 'C-rank' 'C-rank' 'C-rank' 'C-rank' 'C-rank' 'C-rank'\n",
      " 'C-rank' 'C-rank' 'C-rank' 'B-rank' 'C-rank']\n"
     ]
    }
   ],
   "source": [
    "# グリッドサーチした結果のパラメータを用いてモデリング\n",
    "model_RF_nkt_3 = RandomForestClassifier(max_depth=15, max_features=3, n_estimators=500)\n",
    "model_RF_nkt_3.fit(train_features_nkt_2, train_labels_nkt_2) \n",
    "output_nkt_3 = model_RF_nkt_3.predict(test_features_nkt_2)\n",
    "print output_nkt_3"
   ]
  },
  {
   "cell_type": "code",
   "execution_count": 34,
   "metadata": {
    "collapsed": true
   },
   "outputs": [
    {
     "name": "stdout",
     "output_type": "stream",
     "text": [
      "[ 0.0040968   0.00568767  0.00382042  0.01002469  0.00889647  0.00290448\n",
      "  0.0032355   0.00344609  0.00753889  0.01339956  0.00083716  0.00322463\n",
      "  0.00442478  0.00158237  0.00741374  0.00773174  0.00803703  0.01200244\n",
      "  0.01657086  0.01190718  0.00550345  0.00435702  0.0056725   0.0050547\n",
      "  0.00430357  0.00580824  0.00172487  0.00144224  0.00077648  0.00029582\n",
      "  0.00208145  0.00901607  0.00113913  0.00072109  0.00674741  0.\n",
      "  0.00021488  0.00039802  0.00039954  0.00027411  0.02931028  0.03119041\n",
      "  0.03953949  0.07130087  0.0788931   0.07473916  0.02708314  0.03879075\n",
      "  0.03339834  0.02929462  0.03925943  0.03702567  0.02152142  0.0258204\n",
      "  0.03271193  0.02493191  0.02584437  0.03190242  0.02063702  0.02660304\n",
      "  0.02348239  0.01151447  0.01168598  0.01285131  0.00058307  0.00133007\n",
      "  0.00604186]\n",
      "(67,)\n"
     ]
    }
   ],
   "source": [
    "importances = model_RF_nkt_3.feature_importances_\n",
    "print importances\n",
    "print importances.shape"
   ]
  },
  {
   "cell_type": "code",
   "execution_count": 35,
   "metadata": {
    "collapsed": false
   },
   "outputs": [
    {
     "name": "stdout",
     "output_type": "stream",
     "text": [
      "Accuracy: 0.86 (+/- 0.05)\n"
     ]
    }
   ],
   "source": [
    "accuracy_2 = get_accuracy(model_RF_nkt_3, train_features_nkt_2, train_labels_nkt_2)"
   ]
  },
  {
   "cell_type": "markdown",
   "metadata": {},
   "source": [
    "今回のベスト推定精度！"
   ]
  },
  {
   "cell_type": "code",
   "execution_count": 36,
   "metadata": {
    "collapsed": true
   },
   "outputs": [],
   "source": [
    "# 列名の取得\n",
    "features_names_nkt_2 = np.genfromtxt(\"features_names.csv\",delimiter=\",\", dtype = np.str)"
   ]
  },
  {
   "cell_type": "code",
   "execution_count": 37,
   "metadata": {
    "collapsed": true
   },
   "outputs": [
    {
     "data": {
      "text/plain": [
       "array(['max_talentranking_sharp_rise_act_nikkei_term3',\n",
       "       'max_talentranking_sharp_rise_actress_nikkei_term2',\n",
       "       'max_talentranking_sharp_rise_actress_nikkei_term3',\n",
       "       'max_talentranking_total_act_nikkei_term2',\n",
       "       'max_talentranking_total_act_nikkei_term3',\n",
       "       'max_talentranking_total_act_oricon_term1',\n",
       "       'max_talentranking_total_act_oricon_term2',\n",
       "       'max_talentranking_total_act_oricon_term3',\n",
       "       'max_talentranking_total_actress_nikkei_term2',\n",
       "       'max_talentranking_total_actress_nikkei_term3',\n",
       "       'max_talentranking_total_actress_oricon_term1',\n",
       "       'max_talentranking_total_actress_oricon_term2',\n",
       "       'max_talentranking_total_actress_oricon_term3',\n",
       "       'max_talentranking_total_nikkei_term1',\n",
       "       'mean_cm_appearance_ranking_term1',\n",
       "       'mean_cm_appearance_ranking_term2',\n",
       "       'mean_cm_appearance_ranking_term3',\n",
       "       'mean_drama_max_view_point_main_category1_term1',\n",
       "       'mean_drama_max_view_point_main_category1_term2',\n",
       "       'mean_drama_max_view_point_main_category1_term3',\n",
       "       'mean_drama_max_view_point_main_category2_term1',\n",
       "       'mean_drama_max_view_point_main_category2_term2',\n",
       "       'mean_drama_max_view_point_main_category2_term3',\n",
       "       'mean_drama_max_view_point_main_category3_term1',\n",
       "       'mean_drama_max_view_point_main_category3_term2',\n",
       "       'mean_drama_max_view_point_main_category3_term3',\n",
       "       'mean_drama_max_view_point_main_category4_term1',\n",
       "       'mean_drama_max_view_point_main_category4_term2',\n",
       "       'mean_drama_max_view_point_main_category4_term3',\n",
       "       'mean_drama_max_view_point_main_category5_term1',\n",
       "       'mean_drama_max_view_point_main_category5_term2',\n",
       "       'mean_drama_max_view_point_main_category5_term3',\n",
       "       'mean_drama_max_view_point_main_category6_term1',\n",
       "       'mean_drama_max_view_point_main_category6_term2',\n",
       "       'mean_drama_max_view_point_main_category6_term3',\n",
       "       'mean_drama_max_view_point_main_category7_term2',\n",
       "       'mean_drama_max_view_point_main_category7_term3',\n",
       "       'mean_drama_max_view_point_main_category8_term1',\n",
       "       'mean_drama_max_view_point_main_category8_term2',\n",
       "       'mean_drama_max_view_point_main_category8_term3',\n",
       "       'mean_drama_max_view_point_sub_term1',\n",
       "       'mean_drama_max_view_point_sub_term2',\n",
       "       'mean_drama_max_view_point_sub_term3', 'mean_gtrend_term1',\n",
       "       'mean_gtrend_term2', 'mean_gtrend_term3',\n",
       "       'mean_movie_max_revenue_main_term1',\n",
       "       'mean_movie_max_revenue_main_term2',\n",
       "       'mean_movie_max_revenue_main_term3',\n",
       "       'mean_screen_avg_max_main_term1', 'mean_screen_avg_max_main_term2',\n",
       "       'mean_screen_avg_max_main_term3',\n",
       "       'sum_drama_appearance_cnt_main_term1',\n",
       "       'sum_drama_appearance_cnt_main_term2',\n",
       "       'sum_drama_appearance_cnt_main_term3',\n",
       "       'sum_drama_appearance_cnt_sub_term1',\n",
       "       'sum_drama_appearance_cnt_sub_term2',\n",
       "       'sum_drama_appearance_cnt_sub_term3',\n",
       "       'sum_movie_appearance_cnt_main_term1',\n",
       "       'sum_movie_appearance_cnt_main_term2',\n",
       "       'sum_movie_appearance_cnt_main_term3',\n",
       "       'sum_movie_appearance_cnt_sub_term1',\n",
       "       'sum_movie_appearance_cnt_sub_term2',\n",
       "       'sum_movie_appearance_cnt_sub_term3', 'AKB', 'LDH', 'journeys'], \n",
       "      dtype='|S49')"
      ]
     },
     "execution_count": 37,
     "metadata": {},
     "output_type": "execute_result"
    }
   ],
   "source": [
    "features_names_nkt_2"
   ]
  },
  {
   "cell_type": "code",
   "execution_count": 38,
   "metadata": {
    "collapsed": false
   },
   "outputs": [],
   "source": [
    "# 結合\n",
    "col =[\"values\"]\n",
    "importances_ = pd.DataFrame(\n",
    "    data = importances, index = features_names_nkt_2, columns = col)"
   ]
  },
  {
   "cell_type": "code",
   "execution_count": 39,
   "metadata": {
    "collapsed": true
   },
   "outputs": [
    {
     "name": "stdout",
     "output_type": "stream",
     "text": [
      "                                                     values\n",
      "mean_gtrend_term2                                  0.078893\n",
      "mean_gtrend_term3                                  0.074739\n",
      "mean_gtrend_term1                                  0.071301\n",
      "mean_drama_max_view_point_sub_term3                0.039539\n",
      "mean_screen_avg_max_main_term2                     0.039259\n",
      "mean_movie_max_revenue_main_term2                  0.038791\n",
      "mean_screen_avg_max_main_term3                     0.037026\n",
      "mean_movie_max_revenue_main_term3                  0.033398\n",
      "sum_drama_appearance_cnt_main_term3                0.032712\n",
      "sum_drama_appearance_cnt_sub_term3                 0.031902\n",
      "mean_drama_max_view_point_sub_term2                0.031190\n",
      "mean_drama_max_view_point_sub_term1                0.029310\n",
      "mean_screen_avg_max_main_term1                     0.029295\n",
      "mean_movie_max_revenue_main_term1                  0.027083\n",
      "sum_movie_appearance_cnt_main_term2                0.026603\n",
      "sum_drama_appearance_cnt_sub_term2                 0.025844\n",
      "sum_drama_appearance_cnt_main_term2                0.025820\n",
      "sum_drama_appearance_cnt_sub_term1                 0.024932\n",
      "sum_movie_appearance_cnt_main_term3                0.023482\n",
      "sum_drama_appearance_cnt_main_term1                0.021521\n",
      "sum_movie_appearance_cnt_main_term1                0.020637\n",
      "mean_drama_max_view_point_main_category1_term2     0.016571\n",
      "max_talentranking_total_actress_nikkei_term3       0.013400\n",
      "sum_movie_appearance_cnt_sub_term3                 0.012851\n",
      "mean_drama_max_view_point_main_category1_term1     0.012002\n",
      "mean_drama_max_view_point_main_category1_term3     0.011907\n",
      "sum_movie_appearance_cnt_sub_term2                 0.011686\n",
      "sum_movie_appearance_cnt_sub_term1                 0.011514\n",
      "max_talentranking_total_act_nikkei_term2           0.010025\n",
      "mean_drama_max_view_point_main_category5_term3     0.009016\n",
      "...                                                     ...\n",
      "mean_drama_max_view_point_main_category3_term3     0.005808\n",
      "max_talentranking_sharp_rise_actress_nikkei_term2  0.005688\n",
      "mean_drama_max_view_point_main_category2_term3     0.005672\n",
      "mean_drama_max_view_point_main_category2_term1     0.005503\n",
      "mean_drama_max_view_point_main_category3_term1     0.005055\n",
      "max_talentranking_total_actress_oricon_term3       0.004425\n",
      "mean_drama_max_view_point_main_category2_term2     0.004357\n",
      "mean_drama_max_view_point_main_category3_term2     0.004304\n",
      "max_talentranking_sharp_rise_act_nikkei_term3      0.004097\n",
      "max_talentranking_sharp_rise_actress_nikkei_term3  0.003820\n",
      "max_talentranking_total_act_oricon_term3           0.003446\n",
      "max_talentranking_total_act_oricon_term2           0.003235\n",
      "max_talentranking_total_actress_oricon_term2       0.003225\n",
      "max_talentranking_total_act_oricon_term1           0.002904\n",
      "mean_drama_max_view_point_main_category5_term2     0.002081\n",
      "mean_drama_max_view_point_main_category4_term1     0.001725\n",
      "max_talentranking_total_nikkei_term1               0.001582\n",
      "mean_drama_max_view_point_main_category4_term2     0.001442\n",
      "LDH                                                0.001330\n",
      "mean_drama_max_view_point_main_category6_term1     0.001139\n",
      "max_talentranking_total_actress_oricon_term1       0.000837\n",
      "mean_drama_max_view_point_main_category4_term3     0.000776\n",
      "mean_drama_max_view_point_main_category6_term2     0.000721\n",
      "AKB                                                0.000583\n",
      "mean_drama_max_view_point_main_category8_term2     0.000400\n",
      "mean_drama_max_view_point_main_category8_term1     0.000398\n",
      "mean_drama_max_view_point_main_category5_term1     0.000296\n",
      "mean_drama_max_view_point_main_category8_term3     0.000274\n",
      "mean_drama_max_view_point_main_category7_term3     0.000215\n",
      "mean_drama_max_view_point_main_category7_term2     0.000000\n",
      "\n",
      "[67 rows x 1 columns]\n"
     ]
    },
    {
     "name": "stderr",
     "output_type": "stream",
     "text": [
      "/Users/DS/.pyenv/versions/anaconda2-2.5.0/lib/python2.7/site-packages/ipykernel/__main__.py:1: FutureWarning: sort(columns=....) is deprecated, use sort_values(by=.....)\n",
      "  if __name__ == '__main__':\n"
     ]
    }
   ],
   "source": [
    "print importances_.sort(\"values\", ascending=False)"
   ]
  },
  {
   "cell_type": "code",
   "execution_count": 67,
   "metadata": {
    "collapsed": false
   },
   "outputs": [
    {
     "name": "stderr",
     "output_type": "stream",
     "text": [
      "/Users/DS/.pyenv/versions/anaconda2-2.5.0/lib/python2.7/site-packages/ipykernel/__main__.py:2: FutureWarning: sort(columns=....) is deprecated, use sort_values(by=.....)\n",
      "  from ipykernel import kernelapp as app\n"
     ]
    }
   ],
   "source": [
    "# write csv\n",
    "# importances_.sort(\"values\", ascending=False).to_csv('RF3_importances.csv')"
   ]
  },
  {
   "cell_type": "code",
   "execution_count": 41,
   "metadata": {
    "collapsed": false
   },
   "outputs": [
    {
     "data": {
      "image/png": "[encoded data removed]",
      "text/plain": [
       "<matplotlib.figure.Figure at 0x1198ae050>"
      ]
     },
     "metadata": {},
     "output_type": "display_data"
    }
   ],
   "source": [
    "plt.title('features')\n",
    "plt.bar(range(features_names_nkt_2.shape[0]),\n",
    "        importances[np.argsort(importances)[::1]],\n",
    "        color='lightblue', align = 'center'\n",
    "       )\n",
    "plt.show()"
   ]
  },
  {
   "cell_type": "markdown",
   "metadata": {},
   "source": [
    "重要度を右から高い順位並べました\n",
    "\n",
    "※x軸は列番号を示しています"
   ]
  },
  {
   "cell_type": "code",
   "execution_count": 65,
   "metadata": {
    "collapsed": true
   },
   "outputs": [],
   "source": [
    "# 重要度の選別\n",
    "# x_selected = model_RF_nkt_3.transform(features_nkt_2, threshol = 0.05)"
   ]
  },
  {
   "cell_type": "code",
   "execution_count": 55,
   "metadata": {
    "collapsed": false
   },
   "outputs": [],
   "source": [
    "# 試しにSVMでやってみる\n",
    "from sklearn.multiclass import OneVsRestClassifier\n",
    "from sklearn.svm import SVC\n",
    "C = 1.\n",
    "kernel = 'rbf'\n",
    "gamma  = 0.01\n",
    "estimator = SVC(C=C, kernel=kernel, gamma=gamma)"
   ]
  },
  {
   "cell_type": "code",
   "execution_count": 56,
   "metadata": {
    "collapsed": true
   },
   "outputs": [
    {
     "name": "stdout",
     "output_type": "stream",
     "text": [
      "['C-rank' 'C-rank' 'B-rank' 'C-rank' 'B-rank' 'B-rank' 'C-rank' 'B-rank'\n",
      " 'B-rank' 'C-rank' 'B-rank' 'C-rank' 'B-rank' 'C-rank' 'C-rank' 'C-rank'\n",
      " 'C-rank' 'B-rank' 'C-rank' 'C-rank' 'C-rank' 'C-rank' 'C-rank' 'C-rank'\n",
      " 'C-rank' 'B-rank' 'B-rank' 'C-rank' 'B-rank' 'C-rank' 'C-rank' 'C-rank'\n",
      " 'B-rank' 'C-rank' 'B-rank' 'C-rank' 'C-rank' 'C-rank' 'C-rank' 'C-rank'\n",
      " 'C-rank' 'C-rank' 'C-rank' 'C-rank' 'B-rank' 'C-rank' 'B-rank' 'C-rank'\n",
      " 'C-rank' 'B-rank' 'C-rank' 'B-rank' 'C-rank' 'C-rank' 'C-rank' 'C-rank'\n",
      " 'C-rank' 'C-rank' 'C-rank' 'C-rank' 'C-rank' 'A-rank' 'B-rank' 'C-rank'\n",
      " 'C-rank' 'B-rank' 'C-rank' 'C-rank' 'B-rank' 'C-rank' 'C-rank' 'C-rank'\n",
      " 'B-rank' 'C-rank' 'C-rank' 'C-rank' 'C-rank' 'B-rank' 'C-rank' 'C-rank'\n",
      " 'C-rank' 'C-rank' 'C-rank' 'C-rank' 'B-rank' 'C-rank' 'C-rank' 'C-rank'\n",
      " 'B-rank' 'B-rank' 'C-rank' 'C-rank' 'C-rank' 'B-rank' 'C-rank' 'C-rank'\n",
      " 'B-rank' 'C-rank' 'C-rank' 'B-rank' 'C-rank' 'B-rank' 'B-rank' 'A-rank'\n",
      " 'C-rank' 'C-rank' 'C-rank' 'B-rank' 'C-rank' 'C-rank' 'C-rank' 'B-rank'\n",
      " 'B-rank' 'C-rank' 'C-rank' 'C-rank' 'C-rank' 'C-rank' 'C-rank' 'C-rank'\n",
      " 'C-rank' 'C-rank' 'C-rank' 'C-rank' 'C-rank' 'C-rank' 'C-rank' 'C-rank'\n",
      " 'C-rank' 'C-rank' 'C-rank' 'C-rank' 'C-rank' 'B-rank' 'B-rank' 'C-rank'\n",
      " 'B-rank' 'C-rank' 'C-rank' 'C-rank' 'C-rank' 'B-rank' 'C-rank' 'C-rank'\n",
      " 'C-rank' 'B-rank' 'B-rank' 'C-rank' 'C-rank' 'B-rank' 'A-rank' 'C-rank'\n",
      " 'C-rank' 'C-rank' 'C-rank' 'C-rank' 'B-rank' 'C-rank' 'B-rank' 'B-rank'\n",
      " 'B-rank' 'C-rank' 'B-rank' 'C-rank' 'C-rank' 'C-rank' 'B-rank' 'C-rank'\n",
      " 'C-rank' 'B-rank' 'C-rank' 'B-rank' 'C-rank' 'B-rank' 'A-rank' 'C-rank'\n",
      " 'C-rank' 'C-rank' 'C-rank' 'C-rank' 'C-rank' 'C-rank' 'C-rank' 'C-rank'\n",
      " 'B-rank' 'C-rank' 'C-rank' 'C-rank' 'B-rank' 'C-rank' 'C-rank' 'C-rank'\n",
      " 'C-rank' 'C-rank' 'C-rank' 'C-rank' 'C-rank' 'C-rank' 'B-rank' 'C-rank'\n",
      " 'B-rank' 'C-rank' 'C-rank' 'C-rank' 'C-rank' 'C-rank' 'C-rank' 'C-rank'\n",
      " 'C-rank' 'C-rank' 'C-rank' 'C-rank' 'B-rank' 'C-rank' 'B-rank' 'C-rank'\n",
      " 'C-rank' 'B-rank' 'C-rank' 'C-rank' 'B-rank' 'B-rank' 'C-rank' 'C-rank'\n",
      " 'B-rank' 'C-rank' 'B-rank' 'C-rank' 'C-rank' 'C-rank' 'C-rank' 'C-rank'\n",
      " 'C-rank' 'B-rank' 'C-rank' 'B-rank' 'C-rank']\n"
     ]
    }
   ],
   "source": [
    "# fitting\n",
    "SVM_model = OneVsRestClassifier(estimator)\n",
    "SVM_model.fit(train_features_nkt_2, train_labels_nkt_2) \n",
    "output_nkt_3 = SVM_model.predict(test_features_nkt_2)\n",
    "print output_nkt_3"
   ]
  },
  {
   "cell_type": "code",
   "execution_count": 57,
   "metadata": {
    "collapsed": false
   },
   "outputs": [
    {
     "name": "stdout",
     "output_type": "stream",
     "text": [
      "Accuracy: 0.75 (+/- 0.04)\n"
     ]
    }
   ],
   "source": [
    "accuracy = get_accuracy(SVM_model, train_features_nkt_2, train_labels_nkt_2)"
   ]
  },
  {
   "cell_type": "code",
   "execution_count": 58,
   "metadata": {
    "collapsed": false
   },
   "outputs": [
    {
     "name": "stdout",
     "output_type": "stream",
     "text": [
      "SVC(C=10, cache_size=200, class_weight=None, coef0=0.0,\n",
      "  decision_function_shape=None, degree=3, gamma=0.01, kernel='rbf',\n",
      "  max_iter=-1, probability=False, random_state=None, shrinking=True,\n",
      "  tol=0.001, verbose=False)\n"
     ]
    }
   ],
   "source": [
    "# grid search\n",
    "tuned_parameters = {\n",
    "    'C': [1, 10, 100, 1000], \n",
    "    'kernel': ['rbf'], \n",
    "    'gamma': [0.01, 0.001, 0.0001]\n",
    "    }\n",
    "# estimator_ = SVC()\n",
    "# SVM = OneVsRestClassifier(estimator_)\n",
    "SVM_model_2 = GridSearchCV(SVC(), tuned_parameters)\n",
    "SVM_model_2.fit(train_features_nkt_2, train_labels_nkt_2) \n",
    " \n",
    "print SVM_model_2.best_estimator_"
   ]
  },
  {
   "cell_type": "code",
   "execution_count": 60,
   "metadata": {
    "collapsed": false
   },
   "outputs": [
    {
     "name": "stdout",
     "output_type": "stream",
     "text": [
      "Accuracy: 0.75 (+/- 0.04)\n"
     ]
    }
   ],
   "source": [
    "# グリッドサーチしたSVMを再度、正解率を計算する\n",
    "estimator_gridsearched = SVC(C=10, cache_size=200, class_weight=None, coef0=0.0,\n",
    "                decision_function_shape=None, degree=3, gamma=0.01, \n",
    "                kernel='rbf',max_iter=-1, probability=False, \n",
    "                random_state=None, shrinking=True, tol=0.001, verbose=False)\n",
    "SVM_model_gridsearched = OneVsRestClassifier(estimator_gridsearched)\n",
    "accuracy_gridsearched = get_accuracy(SVM_model_gridsearched\n",
    "                        , train_features_nkt_2, train_labels_nkt_2)"
   ]
  },
  {
   "cell_type": "markdown",
   "metadata": {},
   "source": [
    "だめだ "
   ]
  },
  {
   "cell_type": "code",
   "execution_count": 63,
   "metadata": {
    "collapsed": true
   },
   "outputs": [
    {
     "data": {
      "text/plain": [
       "['./model/model_2',\n",
       " './model/model_2_01.npy',\n",
       " './model/model_2_02.npy',\n",
       " './model/model_2_03.npy',\n",
       " './model/model_2_04.npy',\n",
       " './model/model_2_05.npy',\n",
       " './model/model_2_06.npy',\n",
       " './model/model_2_07.npy',\n",
       " './model/model_2_08.npy',\n",
       " './model/model_2_09.npy',\n",
       " './model/model_2_10.npy',\n",
       " './model/model_2_11.npy',\n",
       " './model/model_2_12.npy',\n",
       " './model/model_2_13.npy',\n",
       " './model/model_2_14.npy',\n",
       " './model/model_2_15.npy',\n",
       " './model/model_2_16.npy',\n",
       " './model/model_2_17.npy',\n",
       " './model/model_2_18.npy',\n",
       " './model/model_2_19.npy',\n",
       " './model/model_2_20.npy',\n",
       " './model/model_2_21.npy',\n",
       " './model/model_2_22.npy',\n",
       " './model/model_2_23.npy',\n",
       " './model/model_2_24.npy',\n",
       " './model/model_2_25.npy',\n",
       " './model/model_2_26.npy',\n",
       " './model/model_2_27.npy',\n",
       " './model/model_2_28.npy',\n",
       " './model/model_2_29.npy',\n",
       " './model/model_2_30.npy',\n",
       " './model/model_2_31.npy',\n",
       " './model/model_2_32.npy',\n",
       " './model/model_2_33.npy',\n",
       " './model/model_2_34.npy',\n",
       " './model/model_2_35.npy',\n",
       " './model/model_2_36.npy',\n",
       " './model/model_2_37.npy',\n",
       " './model/model_2_38.npy',\n",
       " './model/model_2_39.npy',\n",
       " './model/model_2_40.npy',\n",
       " './model/model_2_41.npy',\n",
       " './model/model_2_42.npy',\n",
       " './model/model_2_43.npy',\n",
       " './model/model_2_44.npy',\n",
       " './model/model_2_45.npy',\n",
       " './model/model_2_46.npy',\n",
       " './model/model_2_47.npy',\n",
       " './model/model_2_48.npy',\n",
       " './model/model_2_49.npy',\n",
       " './model/model_2_50.npy',\n",
       " './model/model_2_51.npy',\n",
       " './model/model_2_52.npy',\n",
       " './model/model_2_53.npy',\n",
       " './model/model_2_54.npy',\n",
       " './model/model_2_55.npy',\n",
       " './model/model_2_56.npy',\n",
       " './model/model_2_57.npy',\n",
       " './model/model_2_58.npy',\n",
       " './model/model_2_59.npy',\n",
       " './model/model_2_60.npy',\n",
       " './model/model_2_61.npy',\n",
       " './model/model_2_62.npy',\n",
       " './model/model_2_63.npy',\n",
       " './model/model_2_64.npy',\n",
       " './model/model_2_65.npy',\n",
       " './model/model_2_66.npy',\n",
       " './model/model_2_67.npy',\n",
       " './model/model_2_68.npy',\n",
       " './model/model_2_69.npy',\n",
       " './model/model_2_70.npy',\n",
       " './model/model_2_71.npy',\n",
       " './model/model_2_72.npy',\n",
       " './model/model_2_73.npy',\n",
       " './model/model_2_74.npy',\n",
       " './model/model_2_75.npy',\n",
       " './model/model_2_76.npy',\n",
       " './model/model_2_77.npy',\n",
       " './model/model_2_78.npy',\n",
       " './model/model_2_79.npy',\n",
       " './model/model_2_80.npy',\n",
       " './model/model_2_81.npy',\n",
       " './model/model_2_82.npy',\n",
       " './model/model_2_83.npy',\n",
       " './model/model_2_84.npy',\n",
       " './model/model_2_85.npy',\n",
       " './model/model_2_86.npy',\n",
       " './model/model_2_87.npy',\n",
       " './model/model_2_88.npy',\n",
       " './model/model_2_89.npy',\n",
       " './model/model_2_90.npy',\n",
       " './model/model_2_91.npy',\n",
       " './model/model_2_92.npy',\n",
       " './model/model_2_93.npy',\n",
       " './model/model_2_94.npy',\n",
       " './model/model_2_95.npy',\n",
       " './model/model_2_96.npy',\n",
       " './model/model_2_97.npy',\n",
       " './model/model_2_98.npy',\n",
       " './model/model_2_99.npy',\n",
       " './model/model_2_100.npy',\n",
       " './model/model_2_101.npy',\n",
       " './model/model_2_102.npy',\n",
       " './model/model_2_103.npy',\n",
       " './model/model_2_104.npy',\n",
       " './model/model_2_105.npy',\n",
       " './model/model_2_106.npy',\n",
       " './model/model_2_107.npy',\n",
       " './model/model_2_108.npy',\n",
       " './model/model_2_109.npy',\n",
       " './model/model_2_110.npy',\n",
       " './model/model_2_111.npy',\n",
       " './model/model_2_112.npy',\n",
       " './model/model_2_113.npy',\n",
       " './model/model_2_114.npy',\n",
       " './model/model_2_115.npy',\n",
       " './model/model_2_116.npy',\n",
       " './model/model_2_117.npy',\n",
       " './model/model_2_118.npy',\n",
       " './model/model_2_119.npy',\n",
       " './model/model_2_120.npy',\n",
       " './model/model_2_121.npy',\n",
       " './model/model_2_122.npy',\n",
       " './model/model_2_123.npy',\n",
       " './model/model_2_124.npy',\n",
       " './model/model_2_125.npy',\n",
       " './model/model_2_126.npy',\n",
       " './model/model_2_127.npy',\n",
       " './model/model_2_128.npy',\n",
       " './model/model_2_129.npy',\n",
       " './model/model_2_130.npy',\n",
       " './model/model_2_131.npy',\n",
       " './model/model_2_132.npy',\n",
       " './model/model_2_133.npy',\n",
       " './model/model_2_134.npy',\n",
       " './model/model_2_135.npy',\n",
       " './model/model_2_136.npy',\n",
       " './model/model_2_137.npy',\n",
       " './model/model_2_138.npy',\n",
       " './model/model_2_139.npy',\n",
       " './model/model_2_140.npy',\n",
       " './model/model_2_141.npy',\n",
       " './model/model_2_142.npy',\n",
       " './model/model_2_143.npy',\n",
       " './model/model_2_144.npy',\n",
       " './model/model_2_145.npy',\n",
       " './model/model_2_146.npy',\n",
       " './model/model_2_147.npy',\n",
       " './model/model_2_148.npy',\n",
       " './model/model_2_149.npy',\n",
       " './model/model_2_150.npy',\n",
       " './model/model_2_151.npy',\n",
       " './model/model_2_152.npy',\n",
       " './model/model_2_153.npy',\n",
       " './model/model_2_154.npy',\n",
       " './model/model_2_155.npy',\n",
       " './model/model_2_156.npy',\n",
       " './model/model_2_157.npy',\n",
       " './model/model_2_158.npy',\n",
       " './model/model_2_159.npy',\n",
       " './model/model_2_160.npy',\n",
       " './model/model_2_161.npy',\n",
       " './model/model_2_162.npy',\n",
       " './model/model_2_163.npy',\n",
       " './model/model_2_164.npy',\n",
       " './model/model_2_165.npy',\n",
       " './model/model_2_166.npy',\n",
       " './model/model_2_167.npy',\n",
       " './model/model_2_168.npy',\n",
       " './model/model_2_169.npy',\n",
       " './model/model_2_170.npy',\n",
       " './model/model_2_171.npy',\n",
       " './model/model_2_172.npy',\n",
       " './model/model_2_173.npy',\n",
       " './model/model_2_174.npy',\n",
       " './model/model_2_175.npy',\n",
       " './model/model_2_176.npy',\n",
       " './model/model_2_177.npy',\n",
       " './model/model_2_178.npy',\n",
       " './model/model_2_179.npy',\n",
       " './model/model_2_180.npy',\n",
       " './model/model_2_181.npy',\n",
       " './model/model_2_182.npy',\n",
       " './model/model_2_183.npy',\n",
       " './model/model_2_184.npy',\n",
       " './model/model_2_185.npy',\n",
       " './model/model_2_186.npy',\n",
       " './model/model_2_187.npy',\n",
       " './model/model_2_188.npy',\n",
       " './model/model_2_189.npy',\n",
       " './model/model_2_190.npy',\n",
       " './model/model_2_191.npy',\n",
       " './model/model_2_192.npy',\n",
       " './model/model_2_193.npy',\n",
       " './model/model_2_194.npy',\n",
       " './model/model_2_195.npy',\n",
       " './model/model_2_196.npy',\n",
       " './model/model_2_197.npy',\n",
       " './model/model_2_198.npy',\n",
       " './model/model_2_199.npy',\n",
       " './model/model_2_200.npy',\n",
       " './model/model_2_201.npy',\n",
       " './model/model_2_202.npy',\n",
       " './model/model_2_203.npy',\n",
       " './model/model_2_204.npy',\n",
       " './model/model_2_205.npy',\n",
       " './model/model_2_206.npy',\n",
       " './model/model_2_207.npy',\n",
       " './model/model_2_208.npy',\n",
       " './model/model_2_209.npy',\n",
       " './model/model_2_210.npy',\n",
       " './model/model_2_211.npy',\n",
       " './model/model_2_212.npy',\n",
       " './model/model_2_213.npy',\n",
       " './model/model_2_214.npy',\n",
       " './model/model_2_215.npy',\n",
       " './model/model_2_216.npy',\n",
       " './model/model_2_217.npy',\n",
       " './model/model_2_218.npy',\n",
       " './model/model_2_219.npy',\n",
       " './model/model_2_220.npy',\n",
       " './model/model_2_221.npy',\n",
       " './model/model_2_222.npy',\n",
       " './model/model_2_223.npy',\n",
       " './model/model_2_224.npy',\n",
       " './model/model_2_225.npy',\n",
       " './model/model_2_226.npy',\n",
       " './model/model_2_227.npy',\n",
       " './model/model_2_228.npy',\n",
       " './model/model_2_229.npy',\n",
       " './model/model_2_230.npy',\n",
       " './model/model_2_231.npy',\n",
       " './model/model_2_232.npy',\n",
       " './model/model_2_233.npy',\n",
       " './model/model_2_234.npy',\n",
       " './model/model_2_235.npy',\n",
       " './model/model_2_236.npy',\n",
       " './model/model_2_237.npy',\n",
       " './model/model_2_238.npy',\n",
       " './model/model_2_239.npy',\n",
       " './model/model_2_240.npy',\n",
       " './model/model_2_241.npy',\n",
       " './model/model_2_242.npy',\n",
       " './model/model_2_243.npy',\n",
       " './model/model_2_244.npy',\n",
       " './model/model_2_245.npy',\n",
       " './model/model_2_246.npy',\n",
       " './model/model_2_247.npy',\n",
       " './model/model_2_248.npy',\n",
       " './model/model_2_249.npy',\n",
       " './model/model_2_250.npy',\n",
       " './model/model_2_251.npy',\n",
       " './model/model_2_252.npy',\n",
       " './model/model_2_253.npy',\n",
       " './model/model_2_254.npy',\n",
       " './model/model_2_255.npy',\n",
       " './model/model_2_256.npy',\n",
       " './model/model_2_257.npy',\n",
       " './model/model_2_258.npy',\n",
       " './model/model_2_259.npy',\n",
       " './model/model_2_260.npy',\n",
       " './model/model_2_261.npy',\n",
       " './model/model_2_262.npy',\n",
       " './model/model_2_263.npy',\n",
       " './model/model_2_264.npy',\n",
       " './model/model_2_265.npy',\n",
       " './model/model_2_266.npy',\n",
       " './model/model_2_267.npy',\n",
       " './model/model_2_268.npy',\n",
       " './model/model_2_269.npy',\n",
       " './model/model_2_270.npy',\n",
       " './model/model_2_271.npy',\n",
       " './model/model_2_272.npy',\n",
       " './model/model_2_273.npy',\n",
       " './model/model_2_274.npy',\n",
       " './model/model_2_275.npy',\n",
       " './model/model_2_276.npy',\n",
       " './model/model_2_277.npy',\n",
       " './model/model_2_278.npy',\n",
       " './model/model_2_279.npy',\n",
       " './model/model_2_280.npy',\n",
       " './model/model_2_281.npy',\n",
       " './model/model_2_282.npy',\n",
       " './model/model_2_283.npy',\n",
       " './model/model_2_284.npy',\n",
       " './model/model_2_285.npy',\n",
       " './model/model_2_286.npy',\n",
       " './model/model_2_287.npy',\n",
       " './model/model_2_288.npy',\n",
       " './model/model_2_289.npy',\n",
       " './model/model_2_290.npy',\n",
       " './model/model_2_291.npy',\n",
       " './model/model_2_292.npy',\n",
       " './model/model_2_293.npy',\n",
       " './model/model_2_294.npy',\n",
       " './model/model_2_295.npy',\n",
       " './model/model_2_296.npy',\n",
       " './model/model_2_297.npy',\n",
       " './model/model_2_298.npy',\n",
       " './model/model_2_299.npy',\n",
       " './model/model_2_300.npy',\n",
       " './model/model_2_301.npy',\n",
       " './model/model_2_302.npy',\n",
       " './model/model_2_303.npy',\n",
       " './model/model_2_304.npy',\n",
       " './model/model_2_305.npy',\n",
       " './model/model_2_306.npy',\n",
       " './model/model_2_307.npy',\n",
       " './model/model_2_308.npy',\n",
       " './model/model_2_309.npy',\n",
       " './model/model_2_310.npy',\n",
       " './model/model_2_311.npy',\n",
       " './model/model_2_312.npy',\n",
       " './model/model_2_313.npy',\n",
       " './model/model_2_314.npy',\n",
       " './model/model_2_315.npy',\n",
       " './model/model_2_316.npy',\n",
       " './model/model_2_317.npy',\n",
       " './model/model_2_318.npy',\n",
       " './model/model_2_319.npy',\n",
       " './model/model_2_320.npy',\n",
       " './model/model_2_321.npy',\n",
       " './model/model_2_322.npy',\n",
       " './model/model_2_323.npy',\n",
       " './model/model_2_324.npy',\n",
       " './model/model_2_325.npy',\n",
       " './model/model_2_326.npy',\n",
       " './model/model_2_327.npy',\n",
       " './model/model_2_328.npy',\n",
       " './model/model_2_329.npy',\n",
       " './model/model_2_330.npy',\n",
       " './model/model_2_331.npy',\n",
       " './model/model_2_332.npy',\n",
       " './model/model_2_333.npy',\n",
       " './model/model_2_334.npy',\n",
       " './model/model_2_335.npy',\n",
       " './model/model_2_336.npy',\n",
       " './model/model_2_337.npy',\n",
       " './model/model_2_338.npy',\n",
       " './model/model_2_339.npy',\n",
       " './model/model_2_340.npy',\n",
       " './model/model_2_341.npy',\n",
       " './model/model_2_342.npy',\n",
       " './model/model_2_343.npy',\n",
       " './model/model_2_344.npy',\n",
       " './model/model_2_345.npy',\n",
       " './model/model_2_346.npy',\n",
       " './model/model_2_347.npy',\n",
       " './model/model_2_348.npy',\n",
       " './model/model_2_349.npy',\n",
       " './model/model_2_350.npy',\n",
       " './model/model_2_351.npy',\n",
       " './model/model_2_352.npy',\n",
       " './model/model_2_353.npy',\n",
       " './model/model_2_354.npy',\n",
       " './model/model_2_355.npy',\n",
       " './model/model_2_356.npy',\n",
       " './model/model_2_357.npy',\n",
       " './model/model_2_358.npy',\n",
       " './model/model_2_359.npy',\n",
       " './model/model_2_360.npy',\n",
       " './model/model_2_361.npy',\n",
       " './model/model_2_362.npy',\n",
       " './model/model_2_363.npy',\n",
       " './model/model_2_364.npy',\n",
       " './model/model_2_365.npy',\n",
       " './model/model_2_366.npy',\n",
       " './model/model_2_367.npy',\n",
       " './model/model_2_368.npy',\n",
       " './model/model_2_369.npy',\n",
       " './model/model_2_370.npy',\n",
       " './model/model_2_371.npy',\n",
       " './model/model_2_372.npy',\n",
       " './model/model_2_373.npy',\n",
       " './model/model_2_374.npy',\n",
       " './model/model_2_375.npy',\n",
       " './model/model_2_376.npy',\n",
       " './model/model_2_377.npy',\n",
       " './model/model_2_378.npy',\n",
       " './model/model_2_379.npy',\n",
       " './model/model_2_380.npy',\n",
       " './model/model_2_381.npy',\n",
       " './model/model_2_382.npy',\n",
       " './model/model_2_383.npy',\n",
       " './model/model_2_384.npy',\n",
       " './model/model_2_385.npy',\n",
       " './model/model_2_386.npy',\n",
       " './model/model_2_387.npy',\n",
       " './model/model_2_388.npy',\n",
       " './model/model_2_389.npy',\n",
       " './model/model_2_390.npy',\n",
       " './model/model_2_391.npy',\n",
       " './model/model_2_392.npy',\n",
       " './model/model_2_393.npy',\n",
       " './model/model_2_394.npy',\n",
       " './model/model_2_395.npy',\n",
       " './model/model_2_396.npy',\n",
       " './model/model_2_397.npy',\n",
       " './model/model_2_398.npy',\n",
       " './model/model_2_399.npy',\n",
       " './model/model_2_400.npy',\n",
       " './model/model_2_401.npy',\n",
       " './model/model_2_402.npy',\n",
       " './model/model_2_403.npy',\n",
       " './model/model_2_404.npy',\n",
       " './model/model_2_405.npy',\n",
       " './model/model_2_406.npy',\n",
       " './model/model_2_407.npy',\n",
       " './model/model_2_408.npy',\n",
       " './model/model_2_409.npy',\n",
       " './model/model_2_410.npy',\n",
       " './model/model_2_411.npy',\n",
       " './model/model_2_412.npy',\n",
       " './model/model_2_413.npy',\n",
       " './model/model_2_414.npy',\n",
       " './model/model_2_415.npy',\n",
       " './model/model_2_416.npy',\n",
       " './model/model_2_417.npy',\n",
       " './model/model_2_418.npy',\n",
       " './model/model_2_419.npy',\n",
       " './model/model_2_420.npy',\n",
       " './model/model_2_421.npy',\n",
       " './model/model_2_422.npy',\n",
       " './model/model_2_423.npy',\n",
       " './model/model_2_424.npy',\n",
       " './model/model_2_425.npy',\n",
       " './model/model_2_426.npy',\n",
       " './model/model_2_427.npy',\n",
       " './model/model_2_428.npy',\n",
       " './model/model_2_429.npy',\n",
       " './model/model_2_430.npy',\n",
       " './model/model_2_431.npy',\n",
       " './model/model_2_432.npy',\n",
       " './model/model_2_433.npy',\n",
       " './model/model_2_434.npy',\n",
       " './model/model_2_435.npy',\n",
       " './model/model_2_436.npy',\n",
       " './model/model_2_437.npy',\n",
       " './model/model_2_438.npy',\n",
       " './model/model_2_439.npy',\n",
       " './model/model_2_440.npy',\n",
       " './model/model_2_441.npy',\n",
       " './model/model_2_442.npy',\n",
       " './model/model_2_443.npy',\n",
       " './model/model_2_444.npy',\n",
       " './model/model_2_445.npy',\n",
       " './model/model_2_446.npy',\n",
       " './model/model_2_447.npy',\n",
       " './model/model_2_448.npy',\n",
       " './model/model_2_449.npy',\n",
       " './model/model_2_450.npy',\n",
       " './model/model_2_451.npy',\n",
       " './model/model_2_452.npy',\n",
       " './model/model_2_453.npy',\n",
       " './model/model_2_454.npy',\n",
       " './model/model_2_455.npy',\n",
       " './model/model_2_456.npy',\n",
       " './model/model_2_457.npy',\n",
       " './model/model_2_458.npy',\n",
       " './model/model_2_459.npy',\n",
       " './model/model_2_460.npy',\n",
       " './model/model_2_461.npy',\n",
       " './model/model_2_462.npy',\n",
       " './model/model_2_463.npy',\n",
       " './model/model_2_464.npy',\n",
       " './model/model_2_465.npy',\n",
       " './model/model_2_466.npy',\n",
       " './model/model_2_467.npy',\n",
       " './model/model_2_468.npy',\n",
       " './model/model_2_469.npy',\n",
       " './model/model_2_470.npy',\n",
       " './model/model_2_471.npy',\n",
       " './model/model_2_472.npy',\n",
       " './model/model_2_473.npy',\n",
       " './model/model_2_474.npy',\n",
       " './model/model_2_475.npy',\n",
       " './model/model_2_476.npy',\n",
       " './model/model_2_477.npy',\n",
       " './model/model_2_478.npy',\n",
       " './model/model_2_479.npy',\n",
       " './model/model_2_480.npy',\n",
       " './model/model_2_481.npy',\n",
       " './model/model_2_482.npy',\n",
       " './model/model_2_483.npy',\n",
       " './model/model_2_484.npy',\n",
       " './model/model_2_485.npy',\n",
       " './model/model_2_486.npy',\n",
       " './model/model_2_487.npy',\n",
       " './model/model_2_488.npy',\n",
       " './model/model_2_489.npy',\n",
       " './model/model_2_490.npy',\n",
       " './model/model_2_491.npy',\n",
       " './model/model_2_492.npy',\n",
       " './model/model_2_493.npy',\n",
       " './model/model_2_494.npy',\n",
       " './model/model_2_495.npy',\n",
       " './model/model_2_496.npy',\n",
       " './model/model_2_497.npy',\n",
       " './model/model_2_498.npy',\n",
       " './model/model_2_499.npy',\n",
       " './model/model_2_500.npy',\n",
       " './model/model_2_501.npy',\n",
       " './model/model_2_502.npy',\n",
       " './model/model_2_503.npy',\n",
       " './model/model_2_504.npy',\n",
       " './model/model_2_505.npy',\n",
       " './model/model_2_506.npy',\n",
       " './model/model_2_507.npy',\n",
       " './model/model_2_508.npy',\n",
       " './model/model_2_509.npy',\n",
       " './model/model_2_510.npy',\n",
       " './model/model_2_511.npy',\n",
       " './model/model_2_512.npy',\n",
       " './model/model_2_513.npy',\n",
       " './model/model_2_514.npy',\n",
       " './model/model_2_515.npy',\n",
       " './model/model_2_516.npy',\n",
       " './model/model_2_517.npy',\n",
       " './model/model_2_518.npy',\n",
       " './model/model_2_519.npy',\n",
       " './model/model_2_520.npy',\n",
       " './model/model_2_521.npy',\n",
       " './model/model_2_522.npy',\n",
       " './model/model_2_523.npy',\n",
       " './model/model_2_524.npy',\n",
       " './model/model_2_525.npy',\n",
       " './model/model_2_526.npy',\n",
       " './model/model_2_527.npy',\n",
       " './model/model_2_528.npy',\n",
       " './model/model_2_529.npy',\n",
       " './model/model_2_530.npy',\n",
       " './model/model_2_531.npy',\n",
       " './model/model_2_532.npy',\n",
       " './model/model_2_533.npy',\n",
       " './model/model_2_534.npy',\n",
       " './model/model_2_535.npy',\n",
       " './model/model_2_536.npy',\n",
       " './model/model_2_537.npy',\n",
       " './model/model_2_538.npy',\n",
       " './model/model_2_539.npy',\n",
       " './model/model_2_540.npy',\n",
       " './model/model_2_541.npy',\n",
       " './model/model_2_542.npy',\n",
       " './model/model_2_543.npy',\n",
       " './model/model_2_544.npy',\n",
       " './model/model_2_545.npy',\n",
       " './model/model_2_546.npy',\n",
       " './model/model_2_547.npy',\n",
       " './model/model_2_548.npy',\n",
       " './model/model_2_549.npy',\n",
       " './model/model_2_550.npy',\n",
       " './model/model_2_551.npy',\n",
       " './model/model_2_552.npy',\n",
       " './model/model_2_553.npy',\n",
       " './model/model_2_554.npy',\n",
       " './model/model_2_555.npy',\n",
       " './model/model_2_556.npy',\n",
       " './model/model_2_557.npy',\n",
       " './model/model_2_558.npy',\n",
       " './model/model_2_559.npy',\n",
       " './model/model_2_560.npy',\n",
       " './model/model_2_561.npy',\n",
       " './model/model_2_562.npy',\n",
       " './model/model_2_563.npy',\n",
       " './model/model_2_564.npy',\n",
       " './model/model_2_565.npy',\n",
       " './model/model_2_566.npy',\n",
       " './model/model_2_567.npy',\n",
       " './model/model_2_568.npy',\n",
       " './model/model_2_569.npy',\n",
       " './model/model_2_570.npy',\n",
       " './model/model_2_571.npy',\n",
       " './model/model_2_572.npy',\n",
       " './model/model_2_573.npy',\n",
       " './model/model_2_574.npy',\n",
       " './model/model_2_575.npy',\n",
       " './model/model_2_576.npy',\n",
       " './model/model_2_577.npy',\n",
       " './model/model_2_578.npy',\n",
       " './model/model_2_579.npy',\n",
       " './model/model_2_580.npy',\n",
       " './model/model_2_581.npy',\n",
       " './model/model_2_582.npy',\n",
       " './model/model_2_583.npy',\n",
       " './model/model_2_584.npy',\n",
       " './model/model_2_585.npy',\n",
       " './model/model_2_586.npy',\n",
       " './model/model_2_587.npy',\n",
       " './model/model_2_588.npy',\n",
       " './model/model_2_589.npy',\n",
       " './model/model_2_590.npy',\n",
       " './model/model_2_591.npy',\n",
       " './model/model_2_592.npy',\n",
       " './model/model_2_593.npy',\n",
       " './model/model_2_594.npy',\n",
       " './model/model_2_595.npy',\n",
       " './model/model_2_596.npy',\n",
       " './model/model_2_597.npy',\n",
       " './model/model_2_598.npy',\n",
       " './model/model_2_599.npy',\n",
       " './model/model_2_600.npy',\n",
       " './model/model_2_601.npy',\n",
       " './model/model_2_602.npy',\n",
       " './model/model_2_603.npy',\n",
       " './model/model_2_604.npy',\n",
       " './model/model_2_605.npy',\n",
       " './model/model_2_606.npy',\n",
       " './model/model_2_607.npy',\n",
       " './model/model_2_608.npy',\n",
       " './model/model_2_609.npy',\n",
       " './model/model_2_610.npy',\n",
       " './model/model_2_611.npy',\n",
       " './model/model_2_612.npy',\n",
       " './model/model_2_613.npy',\n",
       " './model/model_2_614.npy',\n",
       " './model/model_2_615.npy',\n",
       " './model/model_2_616.npy',\n",
       " './model/model_2_617.npy',\n",
       " './model/model_2_618.npy',\n",
       " './model/model_2_619.npy',\n",
       " './model/model_2_620.npy',\n",
       " './model/model_2_621.npy',\n",
       " './model/model_2_622.npy',\n",
       " './model/model_2_623.npy',\n",
       " './model/model_2_624.npy',\n",
       " './model/model_2_625.npy',\n",
       " './model/model_2_626.npy',\n",
       " './model/model_2_627.npy',\n",
       " './model/model_2_628.npy',\n",
       " './model/model_2_629.npy',\n",
       " './model/model_2_630.npy',\n",
       " './model/model_2_631.npy',\n",
       " './model/model_2_632.npy',\n",
       " './model/model_2_633.npy',\n",
       " './model/model_2_634.npy',\n",
       " './model/model_2_635.npy',\n",
       " './model/model_2_636.npy',\n",
       " './model/model_2_637.npy',\n",
       " './model/model_2_638.npy',\n",
       " './model/model_2_639.npy',\n",
       " './model/model_2_640.npy',\n",
       " './model/model_2_641.npy',\n",
       " './model/model_2_642.npy',\n",
       " './model/model_2_643.npy',\n",
       " './model/model_2_644.npy',\n",
       " './model/model_2_645.npy',\n",
       " './model/model_2_646.npy',\n",
       " './model/model_2_647.npy',\n",
       " './model/model_2_648.npy',\n",
       " './model/model_2_649.npy',\n",
       " './model/model_2_650.npy',\n",
       " './model/model_2_651.npy',\n",
       " './model/model_2_652.npy',\n",
       " './model/model_2_653.npy',\n",
       " './model/model_2_654.npy',\n",
       " './model/model_2_655.npy',\n",
       " './model/model_2_656.npy',\n",
       " './model/model_2_657.npy',\n",
       " './model/model_2_658.npy',\n",
       " './model/model_2_659.npy',\n",
       " './model/model_2_660.npy',\n",
       " './model/model_2_661.npy',\n",
       " './model/model_2_662.npy',\n",
       " './model/model_2_663.npy',\n",
       " './model/model_2_664.npy',\n",
       " './model/model_2_665.npy',\n",
       " './model/model_2_666.npy',\n",
       " './model/model_2_667.npy',\n",
       " './model/model_2_668.npy',\n",
       " './model/model_2_669.npy',\n",
       " './model/model_2_670.npy',\n",
       " './model/model_2_671.npy',\n",
       " './model/model_2_672.npy',\n",
       " './model/model_2_673.npy',\n",
       " './model/model_2_674.npy',\n",
       " './model/model_2_675.npy',\n",
       " './model/model_2_676.npy',\n",
       " './model/model_2_677.npy',\n",
       " './model/model_2_678.npy',\n",
       " './model/model_2_679.npy',\n",
       " './model/model_2_680.npy',\n",
       " './model/model_2_681.npy',\n",
       " './model/model_2_682.npy',\n",
       " './model/model_2_683.npy',\n",
       " './model/model_2_684.npy',\n",
       " './model/model_2_685.npy',\n",
       " './model/model_2_686.npy',\n",
       " './model/model_2_687.npy',\n",
       " './model/model_2_688.npy',\n",
       " './model/model_2_689.npy',\n",
       " './model/model_2_690.npy',\n",
       " './model/model_2_691.npy',\n",
       " './model/model_2_692.npy',\n",
       " './model/model_2_693.npy',\n",
       " './model/model_2_694.npy',\n",
       " './model/model_2_695.npy',\n",
       " './model/model_2_696.npy',\n",
       " './model/model_2_697.npy',\n",
       " './model/model_2_698.npy',\n",
       " './model/model_2_699.npy',\n",
       " './model/model_2_700.npy',\n",
       " './model/model_2_701.npy',\n",
       " './model/model_2_702.npy',\n",
       " './model/model_2_703.npy',\n",
       " './model/model_2_704.npy',\n",
       " './model/model_2_705.npy',\n",
       " './model/model_2_706.npy',\n",
       " './model/model_2_707.npy',\n",
       " './model/model_2_708.npy',\n",
       " './model/model_2_709.npy',\n",
       " './model/model_2_710.npy',\n",
       " './model/model_2_711.npy',\n",
       " './model/model_2_712.npy',\n",
       " './model/model_2_713.npy',\n",
       " './model/model_2_714.npy',\n",
       " './model/model_2_715.npy',\n",
       " './model/model_2_716.npy',\n",
       " './model/model_2_717.npy',\n",
       " './model/model_2_718.npy',\n",
       " './model/model_2_719.npy',\n",
       " './model/model_2_720.npy',\n",
       " './model/model_2_721.npy',\n",
       " './model/model_2_722.npy',\n",
       " './model/model_2_723.npy',\n",
       " './model/model_2_724.npy',\n",
       " './model/model_2_725.npy',\n",
       " './model/model_2_726.npy',\n",
       " './model/model_2_727.npy',\n",
       " './model/model_2_728.npy',\n",
       " './model/model_2_729.npy',\n",
       " './model/model_2_730.npy',\n",
       " './model/model_2_731.npy',\n",
       " './model/model_2_732.npy',\n",
       " './model/model_2_733.npy',\n",
       " './model/model_2_734.npy',\n",
       " './model/model_2_735.npy',\n",
       " './model/model_2_736.npy',\n",
       " './model/model_2_737.npy',\n",
       " './model/model_2_738.npy',\n",
       " './model/model_2_739.npy',\n",
       " './model/model_2_740.npy',\n",
       " './model/model_2_741.npy',\n",
       " './model/model_2_742.npy',\n",
       " './model/model_2_743.npy',\n",
       " './model/model_2_744.npy',\n",
       " './model/model_2_745.npy',\n",
       " './model/model_2_746.npy',\n",
       " './model/model_2_747.npy',\n",
       " './model/model_2_748.npy',\n",
       " './model/model_2_749.npy',\n",
       " './model/model_2_750.npy',\n",
       " './model/model_2_751.npy',\n",
       " './model/model_2_752.npy',\n",
       " './model/model_2_753.npy',\n",
       " './model/model_2_754.npy',\n",
       " './model/model_2_755.npy',\n",
       " './model/model_2_756.npy',\n",
       " './model/model_2_757.npy',\n",
       " './model/model_2_758.npy',\n",
       " './model/model_2_759.npy',\n",
       " './model/model_2_760.npy',\n",
       " './model/model_2_761.npy',\n",
       " './model/model_2_762.npy',\n",
       " './model/model_2_763.npy',\n",
       " './model/model_2_764.npy',\n",
       " './model/model_2_765.npy',\n",
       " './model/model_2_766.npy',\n",
       " './model/model_2_767.npy',\n",
       " './model/model_2_768.npy',\n",
       " './model/model_2_769.npy',\n",
       " './model/model_2_770.npy',\n",
       " './model/model_2_771.npy',\n",
       " './model/model_2_772.npy',\n",
       " './model/model_2_773.npy',\n",
       " './model/model_2_774.npy',\n",
       " './model/model_2_775.npy',\n",
       " './model/model_2_776.npy',\n",
       " './model/model_2_777.npy',\n",
       " './model/model_2_778.npy',\n",
       " './model/model_2_779.npy',\n",
       " './model/model_2_780.npy',\n",
       " './model/model_2_781.npy',\n",
       " './model/model_2_782.npy',\n",
       " './model/model_2_783.npy',\n",
       " './model/model_2_784.npy',\n",
       " './model/model_2_785.npy',\n",
       " './model/model_2_786.npy',\n",
       " './model/model_2_787.npy',\n",
       " './model/model_2_788.npy',\n",
       " './model/model_2_789.npy',\n",
       " './model/model_2_790.npy',\n",
       " './model/model_2_791.npy',\n",
       " './model/model_2_792.npy',\n",
       " './model/model_2_793.npy',\n",
       " './model/model_2_794.npy',\n",
       " './model/model_2_795.npy',\n",
       " './model/model_2_796.npy',\n",
       " './model/model_2_797.npy',\n",
       " './model/model_2_798.npy',\n",
       " './model/model_2_799.npy',\n",
       " './model/model_2_800.npy',\n",
       " './model/model_2_801.npy',\n",
       " './model/model_2_802.npy',\n",
       " './model/model_2_803.npy',\n",
       " './model/model_2_804.npy',\n",
       " './model/model_2_805.npy',\n",
       " './model/model_2_806.npy',\n",
       " './model/model_2_807.npy',\n",
       " './model/model_2_808.npy',\n",
       " './model/model_2_809.npy',\n",
       " './model/model_2_810.npy',\n",
       " './model/model_2_811.npy',\n",
       " './model/model_2_812.npy',\n",
       " './model/model_2_813.npy',\n",
       " './model/model_2_814.npy',\n",
       " './model/model_2_815.npy',\n",
       " './model/model_2_816.npy',\n",
       " './model/model_2_817.npy',\n",
       " './model/model_2_818.npy',\n",
       " './model/model_2_819.npy',\n",
       " './model/model_2_820.npy',\n",
       " './model/model_2_821.npy',\n",
       " './model/model_2_822.npy',\n",
       " './model/model_2_823.npy',\n",
       " './model/model_2_824.npy',\n",
       " './model/model_2_825.npy',\n",
       " './model/model_2_826.npy',\n",
       " './model/model_2_827.npy',\n",
       " './model/model_2_828.npy',\n",
       " './model/model_2_829.npy',\n",
       " './model/model_2_830.npy',\n",
       " './model/model_2_831.npy',\n",
       " './model/model_2_832.npy',\n",
       " './model/model_2_833.npy',\n",
       " './model/model_2_834.npy',\n",
       " './model/model_2_835.npy',\n",
       " './model/model_2_836.npy',\n",
       " './model/model_2_837.npy',\n",
       " './model/model_2_838.npy',\n",
       " './model/model_2_839.npy',\n",
       " './model/model_2_840.npy',\n",
       " './model/model_2_841.npy',\n",
       " './model/model_2_842.npy',\n",
       " './model/model_2_843.npy',\n",
       " './model/model_2_844.npy',\n",
       " './model/model_2_845.npy',\n",
       " './model/model_2_846.npy',\n",
       " './model/model_2_847.npy',\n",
       " './model/model_2_848.npy',\n",
       " './model/model_2_849.npy',\n",
       " './model/model_2_850.npy',\n",
       " './model/model_2_851.npy',\n",
       " './model/model_2_852.npy',\n",
       " './model/model_2_853.npy',\n",
       " './model/model_2_854.npy',\n",
       " './model/model_2_855.npy',\n",
       " './model/model_2_856.npy',\n",
       " './model/model_2_857.npy',\n",
       " './model/model_2_858.npy',\n",
       " './model/model_2_859.npy',\n",
       " './model/model_2_860.npy',\n",
       " './model/model_2_861.npy',\n",
       " './model/model_2_862.npy',\n",
       " './model/model_2_863.npy',\n",
       " './model/model_2_864.npy',\n",
       " './model/model_2_865.npy',\n",
       " './model/model_2_866.npy',\n",
       " './model/model_2_867.npy',\n",
       " './model/model_2_868.npy',\n",
       " './model/model_2_869.npy',\n",
       " './model/model_2_870.npy',\n",
       " './model/model_2_871.npy',\n",
       " './model/model_2_872.npy',\n",
       " './model/model_2_873.npy',\n",
       " './model/model_2_874.npy',\n",
       " './model/model_2_875.npy',\n",
       " './model/model_2_876.npy',\n",
       " './model/model_2_877.npy',\n",
       " './model/model_2_878.npy',\n",
       " './model/model_2_879.npy',\n",
       " './model/model_2_880.npy',\n",
       " './model/model_2_881.npy',\n",
       " './model/model_2_882.npy',\n",
       " './model/model_2_883.npy',\n",
       " './model/model_2_884.npy',\n",
       " './model/model_2_885.npy',\n",
       " './model/model_2_886.npy',\n",
       " './model/model_2_887.npy',\n",
       " './model/model_2_888.npy',\n",
       " './model/model_2_889.npy',\n",
       " './model/model_2_890.npy',\n",
       " './model/model_2_891.npy',\n",
       " './model/model_2_892.npy',\n",
       " './model/model_2_893.npy',\n",
       " './model/model_2_894.npy',\n",
       " './model/model_2_895.npy',\n",
       " './model/model_2_896.npy',\n",
       " './model/model_2_897.npy',\n",
       " './model/model_2_898.npy',\n",
       " './model/model_2_899.npy',\n",
       " './model/model_2_900.npy',\n",
       " './model/model_2_901.npy',\n",
       " './model/model_2_902.npy',\n",
       " './model/model_2_903.npy',\n",
       " './model/model_2_904.npy',\n",
       " './model/model_2_905.npy',\n",
       " './model/model_2_906.npy',\n",
       " './model/model_2_907.npy',\n",
       " './model/model_2_908.npy',\n",
       " './model/model_2_909.npy',\n",
       " './model/model_2_910.npy',\n",
       " './model/model_2_911.npy',\n",
       " './model/model_2_912.npy',\n",
       " './model/model_2_913.npy',\n",
       " './model/model_2_914.npy',\n",
       " './model/model_2_915.npy',\n",
       " './model/model_2_916.npy',\n",
       " './model/model_2_917.npy',\n",
       " './model/model_2_918.npy',\n",
       " './model/model_2_919.npy',\n",
       " './model/model_2_920.npy',\n",
       " './model/model_2_921.npy',\n",
       " './model/model_2_922.npy',\n",
       " './model/model_2_923.npy',\n",
       " './model/model_2_924.npy',\n",
       " './model/model_2_925.npy',\n",
       " './model/model_2_926.npy',\n",
       " './model/model_2_927.npy',\n",
       " './model/model_2_928.npy',\n",
       " './model/model_2_929.npy',\n",
       " './model/model_2_930.npy',\n",
       " './model/model_2_931.npy',\n",
       " './model/model_2_932.npy',\n",
       " './model/model_2_933.npy',\n",
       " './model/model_2_934.npy',\n",
       " './model/model_2_935.npy',\n",
       " './model/model_2_936.npy',\n",
       " './model/model_2_937.npy',\n",
       " './model/model_2_938.npy',\n",
       " './model/model_2_939.npy',\n",
       " './model/model_2_940.npy',\n",
       " './model/model_2_941.npy',\n",
       " './model/model_2_942.npy',\n",
       " './model/model_2_943.npy',\n",
       " './model/model_2_944.npy',\n",
       " './model/model_2_945.npy',\n",
       " './model/model_2_946.npy',\n",
       " './model/model_2_947.npy',\n",
       " './model/model_2_948.npy',\n",
       " './model/model_2_949.npy',\n",
       " './model/model_2_950.npy',\n",
       " './model/model_2_951.npy',\n",
       " './model/model_2_952.npy',\n",
       " './model/model_2_953.npy',\n",
       " './model/model_2_954.npy',\n",
       " './model/model_2_955.npy',\n",
       " './model/model_2_956.npy',\n",
       " './model/model_2_957.npy',\n",
       " './model/model_2_958.npy',\n",
       " './model/model_2_959.npy',\n",
       " './model/model_2_960.npy',\n",
       " './model/model_2_961.npy',\n",
       " './model/model_2_962.npy',\n",
       " './model/model_2_963.npy',\n",
       " './model/model_2_964.npy',\n",
       " './model/model_2_965.npy',\n",
       " './model/model_2_966.npy',\n",
       " './model/model_2_967.npy',\n",
       " './model/model_2_968.npy',\n",
       " './model/model_2_969.npy',\n",
       " './model/model_2_970.npy',\n",
       " './model/model_2_971.npy',\n",
       " './model/model_2_972.npy',\n",
       " './model/model_2_973.npy',\n",
       " './model/model_2_974.npy',\n",
       " './model/model_2_975.npy',\n",
       " './model/model_2_976.npy',\n",
       " './model/model_2_977.npy',\n",
       " './model/model_2_978.npy',\n",
       " './model/model_2_979.npy',\n",
       " './model/model_2_980.npy',\n",
       " './model/model_2_981.npy',\n",
       " './model/model_2_982.npy',\n",
       " './model/model_2_983.npy',\n",
       " './model/model_2_984.npy',\n",
       " './model/model_2_985.npy',\n",
       " './model/model_2_986.npy',\n",
       " './model/model_2_987.npy',\n",
       " './model/model_2_988.npy',\n",
       " './model/model_2_989.npy',\n",
       " './model/model_2_990.npy',\n",
       " './model/model_2_991.npy',\n",
       " './model/model_2_992.npy',\n",
       " './model/model_2_993.npy',\n",
       " './model/model_2_994.npy',\n",
       " './model/model_2_995.npy',\n",
       " './model/model_2_996.npy',\n",
       " './model/model_2_997.npy',\n",
       " './model/model_2_998.npy',\n",
       " './model/model_2_999.npy',\n",
       " ...]"
      ]
     },
     "execution_count": 63,
     "metadata": {},
     "output_type": "execute_result"
    }
   ],
   "source": [
    "# 学習結果の保存\n",
    "joblib.dump(model_RF_nkt_3, './model/model_2')"
   ]
  },
  {
   "cell_type": "code",
   "execution_count": null,
   "metadata": {
    "collapsed": true
   },
   "outputs": [],
   "source": []
  }
 ],
 "metadata": {
  "kernelspec": {
   "display_name": "Python 2",
   "language": "python",
   "name": "python2"
  },
  "language_info": {
   "codemirror_mode": {
    "name": "ipython",
    "version": 2
   },
   "file_extension": ".py",
   "mimetype": "text/x-python",
   "name": "python",
   "nbconvert_exporter": "python",
   "pygments_lexer": "ipython2",
   "version": "2.7.11"
  }
 },
 "nbformat": 4,
 "nbformat_minor": 0
}
